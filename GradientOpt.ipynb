{
 "cells": [
  {
   "cell_type": "code",
   "execution_count": 1,
   "metadata": {},
   "outputs": [
    {
     "name": "stderr",
     "output_type": "stream",
     "text": [
      "/home/kaidong/anaconda3/envs/tf/lib/python3.6/importlib/_bootstrap.py:219: RuntimeWarning: compiletime version 3.5 of module 'tensorflow.python.framework.fast_tensor_util' does not match runtime version 3.6\n",
      "  return f(*args, **kwds)\n"
     ]
    }
   ],
   "source": [
    "import numpy as np\n",
    "import tensorflow as tf\n",
    "from lc import analysis, graph, config, loader\n",
    "from tensorflow.contrib.layers import fully_connected"
   ]
  },
  {
   "cell_type": "code",
   "execution_count": 2,
   "metadata": {
    "collapsed": true
   },
   "outputs": [],
   "source": [
    "np.set_printoptions(precision=2, suppress=True)"
   ]
  },
  {
   "cell_type": "code",
   "execution_count": 3,
   "metadata": {
    "collapsed": true
   },
   "outputs": [],
   "source": [
    "def five_layers(x, ref_y):\n",
    "    activation = graph.max_out\n",
    "    for i in range(6):\n",
    "        x = fully_connected(\n",
    "            x,\n",
    "            1000,\n",
    "            activation_fn=activation,\n",
    "            scope=\"layer\" + str(i))\n",
    "    y = fully_connected(\n",
    "        x, 1, activation_fn=tf.identity, scope=\"fc\")\n",
    "    diff = tf.reduce_sum(y) * -1\n",
    "    tf.add_to_collection(\"losses\", diff)\n",
    "    tf.add_to_collection(\"ptime\", y)\n",
    "\n",
    "    \n",
    "def gradClips(shape, minEdge, maxEdge, length):\n",
    "    x = tf.Variable(\n",
    "        tf.add(tf.multiply(\n",
    "            tf.random_uniform((length, shape)), (maxEdge-minEdge)),\n",
    "            minEdge), expected_shape=(length, shape)\n",
    "    )\n",
    "    tf.add_to_collection(\"tVar\", x)\n",
    "    maxVal = np.tile(maxEdge, length).reshape((length, shape))\n",
    "    minVal = np.tile(minEdge, length).reshape((length, shape))\n",
    "    \n",
    "    return tf.clip_by_value(x, minVal, maxVal)"
   ]
  },
  {
   "cell_type": "code",
   "execution_count": 4,
   "metadata": {
    "collapsed": true
   },
   "outputs": [],
   "source": [
    "config.DATAFILE = \"time_avg\"\n",
    "data = loader.Loader({\"name\": \"GDopt\", \"discription\": \"\"})\n",
    "\n",
    "config.NUM_UNIT = 10\n",
    "minEdge = np.round(np.min(data.X, 0), 1)\n",
    "maxEdge = np.round(np.max(data.X, 0), 1)"
   ]
  },
  {
   "cell_type": "code",
   "execution_count": 5,
   "metadata": {
    "collapsed": true
   },
   "outputs": [],
   "source": [
    "batchSize = 256\n",
    "gradGraph = tf.Graph()\n",
    "with gradGraph.as_default():\n",
    "    five_layers(\n",
    "        gradClips(31, minEdge, maxEdge, batchSize), np.ones([batchSize])*200\n",
    "    )\n",
    "    fin_loss = analysis.fin_loss()\n",
    "    trainVar, = gradGraph.get_collection(\"tVar\")\n",
    "    pred, = gradGraph.get_collection(\"ptime\")\n",
    "    optimizer = tf.train.AdamOptimizer()\n",
    "    opt = optimizer.minimize(fin_loss, var_list=[trainVar])\n",
    "    init = tf.global_variables_initializer()\n",
    "    model = tf.get_collection(tf.GraphKeys.TRAINABLE_VARIABLES)[1:]"
   ]
  },
  {
   "cell_type": "code",
   "execution_count": 6,
   "metadata": {},
   "outputs": [
    {
     "name": "stdout",
     "output_type": "stream",
     "text": [
      "INFO:tensorflow:Restoring parameters from saved/chkpnt-8000\n"
     ]
    }
   ],
   "source": [
    "sess = tf.Session(graph=gradGraph)\n",
    "\n",
    "with gradGraph.as_default():\n",
    "    sess.run(init)    \n",
    "    saver = tf.train.Saver(model)\n",
    "    saver.restore(sess, tf.train.latest_checkpoint(\"saved\"))\n",
    "    \n",
    "gradGraph.finalize()"
   ]
  },
  {
   "cell_type": "code",
   "execution_count": 7,
   "metadata": {
    "collapsed": true
   },
   "outputs": [],
   "source": [
    "timelist = []\n",
    "paralist = []\n",
    "for i in range(50000):\n",
    "    _, predVal = sess.run([opt, pred])\n",
    "    if not (i % 100):\n",
    "        timelist.append(predVal.reshape(-1))\n",
    "        paralist.append(sess.run(trainVar))"
   ]
  },
  {
   "cell_type": "code",
   "execution_count": 8,
   "metadata": {
    "collapsed": true
   },
   "outputs": [],
   "source": [
    "#paralist, timelist = load(\"./datamax\")"
   ]
  },
  {
   "cell_type": "code",
   "execution_count": 8,
   "metadata": {
    "collapsed": true
   },
   "outputs": [],
   "source": [
    "t = np.array(timelist)"
   ]
  },
  {
   "cell_type": "code",
   "execution_count": 9,
   "metadata": {
    "scrolled": false
   },
   "outputs": [
    {
     "name": "stdout",
     "output_type": "stream",
     "text": [
      "Using matplotlib backend: Qt5Agg\n"
     ]
    }
   ],
   "source": [
    "from matplotlib import pyplot as plt\n",
    "%matplotlib \n",
    "plt.style.use('ggplot')"
   ]
  },
  {
   "cell_type": "code",
   "execution_count": 10,
   "metadata": {},
   "outputs": [
    {
     "data": {
      "text/plain": [
       "<matplotlib.figure.Figure at 0x7fdd7a945f98>"
      ]
     },
     "execution_count": 10,
     "metadata": {},
     "output_type": "execute_result"
    }
   ],
   "source": [
    "plt.figure()"
   ]
  },
  {
   "cell_type": "code",
   "execution_count": 11,
   "metadata": {
    "scrolled": true
   },
   "outputs": [
    {
     "data": {
      "text/plain": [
       "[<matplotlib.lines.Line2D at 0x7fdd78094400>,\n",
       " <matplotlib.lines.Line2D at 0x7fdd780945f8>,\n",
       " <matplotlib.lines.Line2D at 0x7fdd78094748>,\n",
       " <matplotlib.lines.Line2D at 0x7fdd78094898>,\n",
       " <matplotlib.lines.Line2D at 0x7fdd780949e8>,\n",
       " <matplotlib.lines.Line2D at 0x7fdd78094b38>,\n",
       " <matplotlib.lines.Line2D at 0x7fdd78094c88>,\n",
       " <matplotlib.lines.Line2D at 0x7fdd7806d710>,\n",
       " <matplotlib.lines.Line2D at 0x7fdd78094ef0>,\n",
       " <matplotlib.lines.Line2D at 0x7fdd7809f080>,\n",
       " <matplotlib.lines.Line2D at 0x7fdd7809f1d0>,\n",
       " <matplotlib.lines.Line2D at 0x7fdd7809f320>,\n",
       " <matplotlib.lines.Line2D at 0x7fdd7809f470>,\n",
       " <matplotlib.lines.Line2D at 0x7fdd7809f5c0>,\n",
       " <matplotlib.lines.Line2D at 0x7fdd7809f710>,\n",
       " <matplotlib.lines.Line2D at 0x7fdd7809f860>,\n",
       " <matplotlib.lines.Line2D at 0x7fdd7809f9b0>,\n",
       " <matplotlib.lines.Line2D at 0x7fdd7809fb00>,\n",
       " <matplotlib.lines.Line2D at 0x7fdd7809fc50>,\n",
       " <matplotlib.lines.Line2D at 0x7fdd7809fda0>,\n",
       " <matplotlib.lines.Line2D at 0x7fdd7809fef0>,\n",
       " <matplotlib.lines.Line2D at 0x7fdd78024080>,\n",
       " <matplotlib.lines.Line2D at 0x7fdd780241d0>,\n",
       " <matplotlib.lines.Line2D at 0x7fdd78024320>,\n",
       " <matplotlib.lines.Line2D at 0x7fdd78024470>,\n",
       " <matplotlib.lines.Line2D at 0x7fdd780245c0>,\n",
       " <matplotlib.lines.Line2D at 0x7fdd78024710>,\n",
       " <matplotlib.lines.Line2D at 0x7fdd78024860>,\n",
       " <matplotlib.lines.Line2D at 0x7fdd780249b0>,\n",
       " <matplotlib.lines.Line2D at 0x7fdd78024b00>,\n",
       " <matplotlib.lines.Line2D at 0x7fdd78024c50>,\n",
       " <matplotlib.lines.Line2D at 0x7fdd78079320>,\n",
       " <matplotlib.lines.Line2D at 0x7fdd78064c50>,\n",
       " <matplotlib.lines.Line2D at 0x7fdd7806dcf8>,\n",
       " <matplotlib.lines.Line2D at 0x7fdd7806d780>,\n",
       " <matplotlib.lines.Line2D at 0x7fdd780d1e48>,\n",
       " <matplotlib.lines.Line2D at 0x7fdd780d1710>,\n",
       " <matplotlib.lines.Line2D at 0x7fdd780bef98>,\n",
       " <matplotlib.lines.Line2D at 0x7fdd78024e10>,\n",
       " <matplotlib.lines.Line2D at 0x7fdd78024f60>,\n",
       " <matplotlib.lines.Line2D at 0x7fdd7802a0f0>,\n",
       " <matplotlib.lines.Line2D at 0x7fdd7802a240>,\n",
       " <matplotlib.lines.Line2D at 0x7fdd7802a390>,\n",
       " <matplotlib.lines.Line2D at 0x7fdd7802a4e0>,\n",
       " <matplotlib.lines.Line2D at 0x7fdd7802a630>,\n",
       " <matplotlib.lines.Line2D at 0x7fdd7802a780>,\n",
       " <matplotlib.lines.Line2D at 0x7fdd7802a8d0>,\n",
       " <matplotlib.lines.Line2D at 0x7fdd7802aa20>,\n",
       " <matplotlib.lines.Line2D at 0x7fdd7802ab70>,\n",
       " <matplotlib.lines.Line2D at 0x7fdd7802acc0>,\n",
       " <matplotlib.lines.Line2D at 0x7fdd7802ae10>,\n",
       " <matplotlib.lines.Line2D at 0x7fdd7802af60>,\n",
       " <matplotlib.lines.Line2D at 0x7fdd7802d0f0>,\n",
       " <matplotlib.lines.Line2D at 0x7fdd7802d240>,\n",
       " <matplotlib.lines.Line2D at 0x7fdd7802d390>,\n",
       " <matplotlib.lines.Line2D at 0x7fdd7802d4e0>,\n",
       " <matplotlib.lines.Line2D at 0x7fdd7802d630>,\n",
       " <matplotlib.lines.Line2D at 0x7fdd7802d780>,\n",
       " <matplotlib.lines.Line2D at 0x7fdd7802d8d0>,\n",
       " <matplotlib.lines.Line2D at 0x7fdd7802da20>,\n",
       " <matplotlib.lines.Line2D at 0x7fdd7802db70>,\n",
       " <matplotlib.lines.Line2D at 0x7fdd7802dcc0>,\n",
       " <matplotlib.lines.Line2D at 0x7fdd7802de10>,\n",
       " <matplotlib.lines.Line2D at 0x7fdd7802df60>,\n",
       " <matplotlib.lines.Line2D at 0x7fdd780320f0>,\n",
       " <matplotlib.lines.Line2D at 0x7fdd78032240>,\n",
       " <matplotlib.lines.Line2D at 0x7fdd78032390>,\n",
       " <matplotlib.lines.Line2D at 0x7fdd780324e0>,\n",
       " <matplotlib.lines.Line2D at 0x7fdd78032630>,\n",
       " <matplotlib.lines.Line2D at 0x7fdd78032780>,\n",
       " <matplotlib.lines.Line2D at 0x7fdd780328d0>,\n",
       " <matplotlib.lines.Line2D at 0x7fdd78032a20>,\n",
       " <matplotlib.lines.Line2D at 0x7fdd78032b70>,\n",
       " <matplotlib.lines.Line2D at 0x7fdd78032cc0>,\n",
       " <matplotlib.lines.Line2D at 0x7fdd78032e10>,\n",
       " <matplotlib.lines.Line2D at 0x7fdd78032f60>,\n",
       " <matplotlib.lines.Line2D at 0x7fdd780370f0>,\n",
       " <matplotlib.lines.Line2D at 0x7fdd78037240>,\n",
       " <matplotlib.lines.Line2D at 0x7fdd78037390>,\n",
       " <matplotlib.lines.Line2D at 0x7fdd780374e0>,\n",
       " <matplotlib.lines.Line2D at 0x7fdd78037630>,\n",
       " <matplotlib.lines.Line2D at 0x7fdd78037780>,\n",
       " <matplotlib.lines.Line2D at 0x7fdd780378d0>,\n",
       " <matplotlib.lines.Line2D at 0x7fdd78037a20>,\n",
       " <matplotlib.lines.Line2D at 0x7fdd78037b70>,\n",
       " <matplotlib.lines.Line2D at 0x7fdd78037cc0>,\n",
       " <matplotlib.lines.Line2D at 0x7fdd78037e10>,\n",
       " <matplotlib.lines.Line2D at 0x7fdd78037f60>,\n",
       " <matplotlib.lines.Line2D at 0x7fdd7803d0f0>,\n",
       " <matplotlib.lines.Line2D at 0x7fdd7803d240>,\n",
       " <matplotlib.lines.Line2D at 0x7fdd7803d390>,\n",
       " <matplotlib.lines.Line2D at 0x7fdd7803d4e0>,\n",
       " <matplotlib.lines.Line2D at 0x7fdd7803d630>,\n",
       " <matplotlib.lines.Line2D at 0x7fdd7803d780>,\n",
       " <matplotlib.lines.Line2D at 0x7fdd7803d8d0>,\n",
       " <matplotlib.lines.Line2D at 0x7fdd7803da20>,\n",
       " <matplotlib.lines.Line2D at 0x7fdd7803db70>,\n",
       " <matplotlib.lines.Line2D at 0x7fdd7803dcc0>,\n",
       " <matplotlib.lines.Line2D at 0x7fdd7803de10>,\n",
       " <matplotlib.lines.Line2D at 0x7fdd7803df60>,\n",
       " <matplotlib.lines.Line2D at 0x7fdd780420f0>,\n",
       " <matplotlib.lines.Line2D at 0x7fdd78042240>,\n",
       " <matplotlib.lines.Line2D at 0x7fdd78042390>,\n",
       " <matplotlib.lines.Line2D at 0x7fdd780424e0>,\n",
       " <matplotlib.lines.Line2D at 0x7fdd78042630>,\n",
       " <matplotlib.lines.Line2D at 0x7fdd78042780>,\n",
       " <matplotlib.lines.Line2D at 0x7fdd780428d0>,\n",
       " <matplotlib.lines.Line2D at 0x7fdd78042a20>,\n",
       " <matplotlib.lines.Line2D at 0x7fdd78042b70>,\n",
       " <matplotlib.lines.Line2D at 0x7fdd78042cc0>,\n",
       " <matplotlib.lines.Line2D at 0x7fdd78042e10>,\n",
       " <matplotlib.lines.Line2D at 0x7fdd78042f60>,\n",
       " <matplotlib.lines.Line2D at 0x7fdd780470f0>,\n",
       " <matplotlib.lines.Line2D at 0x7fdd78047240>,\n",
       " <matplotlib.lines.Line2D at 0x7fdd78047390>,\n",
       " <matplotlib.lines.Line2D at 0x7fdd780474e0>,\n",
       " <matplotlib.lines.Line2D at 0x7fdd78047630>,\n",
       " <matplotlib.lines.Line2D at 0x7fdd78047780>,\n",
       " <matplotlib.lines.Line2D at 0x7fdd780478d0>,\n",
       " <matplotlib.lines.Line2D at 0x7fdd78047a20>,\n",
       " <matplotlib.lines.Line2D at 0x7fdd78047b70>,\n",
       " <matplotlib.lines.Line2D at 0x7fdd78047cc0>,\n",
       " <matplotlib.lines.Line2D at 0x7fdd78047e10>,\n",
       " <matplotlib.lines.Line2D at 0x7fdd78047f60>,\n",
       " <matplotlib.lines.Line2D at 0x7fdd7804c0f0>,\n",
       " <matplotlib.lines.Line2D at 0x7fdd7804c240>,\n",
       " <matplotlib.lines.Line2D at 0x7fdd7804c390>,\n",
       " <matplotlib.lines.Line2D at 0x7fdd7804c4e0>,\n",
       " <matplotlib.lines.Line2D at 0x7fdd7804c630>,\n",
       " <matplotlib.lines.Line2D at 0x7fdd7804c780>,\n",
       " <matplotlib.lines.Line2D at 0x7fdd7804c8d0>,\n",
       " <matplotlib.lines.Line2D at 0x7fdd7804ca20>,\n",
       " <matplotlib.lines.Line2D at 0x7fdd7804cb70>,\n",
       " <matplotlib.lines.Line2D at 0x7fdd7804ccc0>,\n",
       " <matplotlib.lines.Line2D at 0x7fdd7804ce10>,\n",
       " <matplotlib.lines.Line2D at 0x7fdd7804cf60>,\n",
       " <matplotlib.lines.Line2D at 0x7fdd780510f0>,\n",
       " <matplotlib.lines.Line2D at 0x7fdd78051240>,\n",
       " <matplotlib.lines.Line2D at 0x7fdd78051390>,\n",
       " <matplotlib.lines.Line2D at 0x7fdd780514e0>,\n",
       " <matplotlib.lines.Line2D at 0x7fdd78051630>,\n",
       " <matplotlib.lines.Line2D at 0x7fdd78051780>,\n",
       " <matplotlib.lines.Line2D at 0x7fdd780518d0>,\n",
       " <matplotlib.lines.Line2D at 0x7fdd78051a20>,\n",
       " <matplotlib.lines.Line2D at 0x7fdd78051b70>,\n",
       " <matplotlib.lines.Line2D at 0x7fdd78051cc0>,\n",
       " <matplotlib.lines.Line2D at 0x7fdd78051e10>,\n",
       " <matplotlib.lines.Line2D at 0x7fdd78051f60>,\n",
       " <matplotlib.lines.Line2D at 0x7fdd780550f0>,\n",
       " <matplotlib.lines.Line2D at 0x7fdd78055240>,\n",
       " <matplotlib.lines.Line2D at 0x7fdd78055390>,\n",
       " <matplotlib.lines.Line2D at 0x7fdd780554e0>,\n",
       " <matplotlib.lines.Line2D at 0x7fdd78055630>,\n",
       " <matplotlib.lines.Line2D at 0x7fdd78055780>,\n",
       " <matplotlib.lines.Line2D at 0x7fdd780558d0>,\n",
       " <matplotlib.lines.Line2D at 0x7fdd78055a20>,\n",
       " <matplotlib.lines.Line2D at 0x7fdd78055b70>,\n",
       " <matplotlib.lines.Line2D at 0x7fdd78055cc0>,\n",
       " <matplotlib.lines.Line2D at 0x7fdd78055e10>,\n",
       " <matplotlib.lines.Line2D at 0x7fdd78055f60>,\n",
       " <matplotlib.lines.Line2D at 0x7fdd7805b0f0>,\n",
       " <matplotlib.lines.Line2D at 0x7fdd7805b240>,\n",
       " <matplotlib.lines.Line2D at 0x7fdd7805b390>,\n",
       " <matplotlib.lines.Line2D at 0x7fdd7805b4e0>,\n",
       " <matplotlib.lines.Line2D at 0x7fdd7805b630>,\n",
       " <matplotlib.lines.Line2D at 0x7fdd7805b780>,\n",
       " <matplotlib.lines.Line2D at 0x7fdd7805b8d0>,\n",
       " <matplotlib.lines.Line2D at 0x7fdd7805ba20>,\n",
       " <matplotlib.lines.Line2D at 0x7fdd7805bb70>,\n",
       " <matplotlib.lines.Line2D at 0x7fdd7805bcc0>,\n",
       " <matplotlib.lines.Line2D at 0x7fdd7805be10>,\n",
       " <matplotlib.lines.Line2D at 0x7fdd7805bf60>,\n",
       " <matplotlib.lines.Line2D at 0x7fdd780600f0>,\n",
       " <matplotlib.lines.Line2D at 0x7fdd78060240>,\n",
       " <matplotlib.lines.Line2D at 0x7fdd78060390>,\n",
       " <matplotlib.lines.Line2D at 0x7fdd780604e0>,\n",
       " <matplotlib.lines.Line2D at 0x7fdd78060630>,\n",
       " <matplotlib.lines.Line2D at 0x7fdd78060780>,\n",
       " <matplotlib.lines.Line2D at 0x7fdd780608d0>,\n",
       " <matplotlib.lines.Line2D at 0x7fdd78060a20>,\n",
       " <matplotlib.lines.Line2D at 0x7fdd78060b70>,\n",
       " <matplotlib.lines.Line2D at 0x7fdd78060cc0>,\n",
       " <matplotlib.lines.Line2D at 0x7fdd78060e10>,\n",
       " <matplotlib.lines.Line2D at 0x7fdd78060f60>,\n",
       " <matplotlib.lines.Line2D at 0x7fdd618000f0>,\n",
       " <matplotlib.lines.Line2D at 0x7fdd61800240>,\n",
       " <matplotlib.lines.Line2D at 0x7fdd61800390>,\n",
       " <matplotlib.lines.Line2D at 0x7fdd618004e0>,\n",
       " <matplotlib.lines.Line2D at 0x7fdd61800630>,\n",
       " <matplotlib.lines.Line2D at 0x7fdd61800780>,\n",
       " <matplotlib.lines.Line2D at 0x7fdd618008d0>,\n",
       " <matplotlib.lines.Line2D at 0x7fdd61800a20>,\n",
       " <matplotlib.lines.Line2D at 0x7fdd61800b70>,\n",
       " <matplotlib.lines.Line2D at 0x7fdd61800cc0>,\n",
       " <matplotlib.lines.Line2D at 0x7fdd61800e10>,\n",
       " <matplotlib.lines.Line2D at 0x7fdd61800f60>,\n",
       " <matplotlib.lines.Line2D at 0x7fdd618040f0>,\n",
       " <matplotlib.lines.Line2D at 0x7fdd61804240>,\n",
       " <matplotlib.lines.Line2D at 0x7fdd61804390>,\n",
       " <matplotlib.lines.Line2D at 0x7fdd618044e0>,\n",
       " <matplotlib.lines.Line2D at 0x7fdd61804630>,\n",
       " <matplotlib.lines.Line2D at 0x7fdd61804780>,\n",
       " <matplotlib.lines.Line2D at 0x7fdd618048d0>,\n",
       " <matplotlib.lines.Line2D at 0x7fdd61804a20>,\n",
       " <matplotlib.lines.Line2D at 0x7fdd61804b70>,\n",
       " <matplotlib.lines.Line2D at 0x7fdd61804cc0>,\n",
       " <matplotlib.lines.Line2D at 0x7fdd61804e10>,\n",
       " <matplotlib.lines.Line2D at 0x7fdd61804f60>,\n",
       " <matplotlib.lines.Line2D at 0x7fdd6180a0f0>,\n",
       " <matplotlib.lines.Line2D at 0x7fdd6180a240>,\n",
       " <matplotlib.lines.Line2D at 0x7fdd6180a390>,\n",
       " <matplotlib.lines.Line2D at 0x7fdd6180a4e0>,\n",
       " <matplotlib.lines.Line2D at 0x7fdd6180a630>,\n",
       " <matplotlib.lines.Line2D at 0x7fdd6180a780>,\n",
       " <matplotlib.lines.Line2D at 0x7fdd6180a8d0>,\n",
       " <matplotlib.lines.Line2D at 0x7fdd6180aa20>,\n",
       " <matplotlib.lines.Line2D at 0x7fdd6180ab70>,\n",
       " <matplotlib.lines.Line2D at 0x7fdd6180acc0>,\n",
       " <matplotlib.lines.Line2D at 0x7fdd6180ae10>,\n",
       " <matplotlib.lines.Line2D at 0x7fdd6180af60>,\n",
       " <matplotlib.lines.Line2D at 0x7fdd6180f0f0>,\n",
       " <matplotlib.lines.Line2D at 0x7fdd6180f240>,\n",
       " <matplotlib.lines.Line2D at 0x7fdd6180f390>,\n",
       " <matplotlib.lines.Line2D at 0x7fdd6180f4e0>,\n",
       " <matplotlib.lines.Line2D at 0x7fdd6180f630>,\n",
       " <matplotlib.lines.Line2D at 0x7fdd6180f780>,\n",
       " <matplotlib.lines.Line2D at 0x7fdd6180f8d0>,\n",
       " <matplotlib.lines.Line2D at 0x7fdd6180fa20>,\n",
       " <matplotlib.lines.Line2D at 0x7fdd6180fb70>,\n",
       " <matplotlib.lines.Line2D at 0x7fdd6180fcc0>,\n",
       " <matplotlib.lines.Line2D at 0x7fdd6180fe10>,\n",
       " <matplotlib.lines.Line2D at 0x7fdd6180ff60>,\n",
       " <matplotlib.lines.Line2D at 0x7fdd618150f0>,\n",
       " <matplotlib.lines.Line2D at 0x7fdd61815240>,\n",
       " <matplotlib.lines.Line2D at 0x7fdd61815390>,\n",
       " <matplotlib.lines.Line2D at 0x7fdd618154e0>,\n",
       " <matplotlib.lines.Line2D at 0x7fdd61815630>,\n",
       " <matplotlib.lines.Line2D at 0x7fdd61815780>,\n",
       " <matplotlib.lines.Line2D at 0x7fdd618158d0>,\n",
       " <matplotlib.lines.Line2D at 0x7fdd61815a20>,\n",
       " <matplotlib.lines.Line2D at 0x7fdd61815b70>,\n",
       " <matplotlib.lines.Line2D at 0x7fdd61815cc0>,\n",
       " <matplotlib.lines.Line2D at 0x7fdd61815e10>,\n",
       " <matplotlib.lines.Line2D at 0x7fdd61815f60>,\n",
       " <matplotlib.lines.Line2D at 0x7fdd618180f0>,\n",
       " <matplotlib.lines.Line2D at 0x7fdd61818240>,\n",
       " <matplotlib.lines.Line2D at 0x7fdd61818390>,\n",
       " <matplotlib.lines.Line2D at 0x7fdd618184e0>,\n",
       " <matplotlib.lines.Line2D at 0x7fdd61818630>,\n",
       " <matplotlib.lines.Line2D at 0x7fdd61818780>,\n",
       " <matplotlib.lines.Line2D at 0x7fdd618188d0>,\n",
       " <matplotlib.lines.Line2D at 0x7fdd61818a20>,\n",
       " <matplotlib.lines.Line2D at 0x7fdd61818b70>,\n",
       " <matplotlib.lines.Line2D at 0x7fdd61818cc0>,\n",
       " <matplotlib.lines.Line2D at 0x7fdd61818e10>,\n",
       " <matplotlib.lines.Line2D at 0x7fdd61818f60>]"
      ]
     },
     "execution_count": 11,
     "metadata": {},
     "output_type": "execute_result"
    }
   ],
   "source": [
    "plt.plot(t)"
   ]
  },
  {
   "cell_type": "code",
   "execution_count": 12,
   "metadata": {
    "collapsed": true
   },
   "outputs": [],
   "source": [
    "from xilio import dump, load\n",
    "import numpy as np"
   ]
  },
  {
   "cell_type": "code",
   "execution_count": 13,
   "metadata": {
    "collapsed": true
   },
   "outputs": [],
   "source": [
    "dump(\"datamaxmass\", (paralist, timelist))"
   ]
  },
  {
   "cell_type": "code",
   "execution_count": 15,
   "metadata": {},
   "outputs": [],
   "source": [
    "ft = timelist[-1]"
   ]
  },
  {
   "cell_type": "code",
   "execution_count": 16,
   "metadata": {},
   "outputs": [
    {
     "data": {
      "text/plain": [
       "array([[26]])"
      ]
     },
     "execution_count": 16,
     "metadata": {},
     "output_type": "execute_result"
    }
   ],
   "source": [
    "np.argwhere(ft == max(ft))"
   ]
  },
  {
   "cell_type": "code",
   "execution_count": 17,
   "metadata": {},
   "outputs": [
    {
     "data": {
      "text/plain": [
       "112.06644"
      ]
     },
     "execution_count": 17,
     "metadata": {},
     "output_type": "execute_result"
    }
   ],
   "source": [
    "max(ft)"
   ]
  },
  {
   "cell_type": "code",
   "execution_count": 22,
   "metadata": {},
   "outputs": [
    {
     "name": "stdout",
     "output_type": "stream",
     "text": [
      "[-15.01  -4.99  12.51  44.99  15.01  11.42  88.01  31.99  28.01 -42.51\n",
      " -77.51 -36.35   2.51  59.01 -17.49  40.98 -57.49  39.53   9.99 -22.98\n",
      " -19.02  29.49  55.49   5.    82.01  -3.51  24.52 -45.01   9.01  43.53\n",
      " -15.01]\n"
     ]
    }
   ],
   "source": [
    "print(np.round(paralist[-1][26],2))"
   ]
  },
  {
   "cell_type": "code",
   "execution_count": null,
   "metadata": {
    "collapsed": true
   },
   "outputs": [],
   "source": []
  }
 ],
 "metadata": {
  "kernelspec": {
   "display_name": "Python 3",
   "language": "python",
   "name": "python3"
  },
  "language_info": {
   "codemirror_mode": {
    "name": "ipython",
    "version": 3
   },
   "file_extension": ".py",
   "mimetype": "text/x-python",
   "name": "python",
   "nbconvert_exporter": "python",
   "pygments_lexer": "ipython3",
   "version": "3.6.3"
  }
 },
 "nbformat": 4,
 "nbformat_minor": 2
}
