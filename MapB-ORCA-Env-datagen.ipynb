{
 "cells": [
  {
   "cell_type": "markdown",
   "metadata": {},
   "source": [
    "_Data comes from **MIG/DualData**_"
   ]
  },
  {
   "cell_type": "code",
   "execution_count": 1,
   "metadata": {
    "collapsed": true
   },
   "outputs": [],
   "source": [
    "import numpy as np\n",
    "import matplotlib.pyplot as plt\n",
    "import pandas as pd\n",
    "\n",
    "from collections import namedtuple\n",
    "from argparse import ArgumentParser\n",
    "from path import Path\n",
    "from IPython.display import display\n",
    "from xilio import dump"
   ]
  },
  {
   "cell_type": "code",
   "execution_count": 2,
   "metadata": {
    "collapsed": true
   },
   "outputs": [],
   "source": [
    "plt.style.use('ggplot')\n",
    "plt.figure()\n",
    "pd.set_option('display.max_columns', 50)\n",
    "\n",
    "# File name / Environment / Crowd / AI\n",
    "Simset = namedtuple(\"Simset\", [\"Name\",\"Envs\",\"Crowd\",\"AI\"])\n",
    "boolmap = lambda x:bool(int(x))\n",
    "Situs = [\n",
    "    Simset(\"All\", *map(boolmap,\"111\")),\n",
    "    Simset(\"Environment\", *map(boolmap,\"100\")),\n",
    "    Simset(\"Crowd\", *map(boolmap,\"010\")),\n",
    "    Simset(\"AI\", *map(boolmap,\"001\")),\n",
    "]\n",
    "\n",
    "current = Situs[1] "
   ]
  },
  {
   "cell_type": "code",
   "execution_count": 3,
   "metadata": {
    "collapsed": true
   },
   "outputs": [],
   "source": [
    "def parseLogfile(filename, multi=False):\n",
    "    benchmark = pd.concat(\n",
    "    [pd.read_table(file, sep=' ', skiprows=1) for file in filename],\n",
    "    ignore_index = True) if multi else pd.read_table(filename, sep=' ', skiprows=1)\n",
    "    #benchmark = benchmark[benchmark[\"frames\"] < benchmark[\"frames\"].max()]\n",
    "    \n",
    "    value_col_names = [\"hashing\", \"time_avg\", \"len_avg\", \"ple_avg\", \"cls_avg\"]\n",
    "    col_names = [col_name for col_name in benchmark.columns if \n",
    "        (col_name.endswith(\"th_obstacle\") and current.Envs) or\n",
    "        (col_name.endswith(\"th_region\") and current.Crowd) or\n",
    "        (col_name.endswith(\"th_ai\") and current.AI)]\n",
    "    \n",
    "    # Modifing & extracting datas\n",
    "    benchmark.loc[:, \"hashing\"] = benchmark[col_names].apply(\n",
    "        lambda x: hash(tuple(x)),axis=1)\n",
    "    benchmark.loc[:, \"time_avg\"] = (\n",
    "        benchmark[\"agent_time_enableds\"].apply(\n",
    "        lambda x: pd.Series(x.strip(\"( )\").split(','), dtype=float).mean()))\n",
    "    benchmark.loc[:, \"len_avg\"] = (\n",
    "        benchmark[\"agent_distance_traveleds\"].apply(\n",
    "        lambda x: pd.Series(x.strip(\"( )\").split(','), dtype=float).mean()))\n",
    "    benchmark.loc[:, \"ple_avg\"] = (\n",
    "        benchmark[\"agent_ple_energys\"].apply(\n",
    "        lambda x: pd.Series(x.strip(\"( )\").split(','), dtype=float).mean()))\n",
    "    benchmark.loc[:, \"cls_avg\"] = (\n",
    "        benchmark[\"collisionTimes\"].apply(\n",
    "        lambda x: pd.Series(x.strip(\"( )\").split(','), dtype=float).mean()))\n",
    "\n",
    "    sampleSet = benchmark[col_names + value_col_names]\n",
    "    sample1, sample2 = sampleSet.iloc[::2], sampleSet.iloc[1::2]\n",
    "\n",
    "    sample1.set_index('hashing', inplace=True)\n",
    "    sample2.set_index('hashing', inplace=True)\n",
    "    \n",
    "    print(\"Dual trail\")\n",
    "    dual = ((sample1-sample2).dropna().apply(np.std, ddof=1)\n",
    "      .loc[value_col_names[1:]])\n",
    "    print(dual)\n",
    "    print(len(dual))\n",
    "    \n",
    "    print(\"Varience test\")\n",
    "    print(sampleSet.apply(np.std, ddof=1).loc[value_col_names[1:]].to_frame())\n",
    "    \n",
    "    print(\"Mean Value test\")\n",
    "    print(sampleSet.apply(np.mean).loc[value_col_names[1:]].to_frame())\n",
    "    \n",
    "    return sampleSet"
   ]
  },
  {
   "cell_type": "code",
   "execution_count": 4,
   "metadata": {},
   "outputs": [
    {
     "data": {
      "text/plain": [
       "[Path('./MapB-ORCA-Env-datagen.ipynb'),\n",
       " Path('./maxtime.log'),\n",
       " Path('./datamaxtime.log'),\n",
       " Path('./stdtime.log'),\n",
       " Path('./mintime.log'),\n",
       " Path('./datamintime.log'),\n",
       " Path('./Untitled.ipynb')]"
      ]
     },
     "execution_count": 4,
     "metadata": {},
     "output_type": "execute_result"
    }
   ],
   "source": [
    "f = Path(\".\").files()\n",
    "f  # Those three files are used for the env gen"
   ]
  },
  {
   "cell_type": "code",
   "execution_count": 9,
   "metadata": {},
   "outputs": [
    {
     "name": "stdout",
     "output_type": "stream",
     "text": [
      "Dual trail\n",
      "time_avg     2.937550\n",
      "len_avg      3.257727\n",
      "ple_avg     11.509039\n",
      "cls_avg      1.643215\n",
      "dtype: float64\n",
      "4\n",
      "Varience test\n",
      "                 0\n",
      "time_avg  2.138315\n",
      "len_avg   2.321651\n",
      "ple_avg   8.251915\n",
      "cls_avg   1.441278\n",
      "Mean Value test\n",
      "                   0\n",
      "time_avg  101.707432\n",
      "len_avg   125.258268\n",
      "ple_avg   427.801170\n",
      "cls_avg     7.858167\n",
      "Dual trail\n",
      "time_avg    1.694939\n",
      "len_avg     1.717040\n",
      "ple_avg     6.253475\n",
      "cls_avg     0.986098\n",
      "dtype: float64\n",
      "4\n",
      "Varience test\n",
      "                 0\n",
      "time_avg  1.264253\n",
      "len_avg   1.398909\n",
      "ple_avg   4.918010\n",
      "cls_avg   0.563098\n",
      "Mean Value test\n",
      "                   0\n",
      "time_avg   71.657367\n",
      "len_avg    87.535513\n",
      "ple_avg   300.217421\n",
      "cls_avg     3.191633\n",
      "Dual trail\n",
      "time_avg    2.197532\n",
      "len_avg     2.343257\n",
      "ple_avg     8.351619\n",
      "cls_avg     1.078638\n",
      "dtype: float64\n",
      "4\n",
      "Varience test\n",
      "                 0\n",
      "time_avg  1.315836\n",
      "len_avg   1.413737\n",
      "ple_avg   4.995596\n",
      "cls_avg   0.772038\n",
      "Mean Value test\n",
      "                   0\n",
      "time_avg   77.878667\n",
      "len_avg    93.581023\n",
      "ple_avg   322.357050\n",
      "cls_avg     4.910400\n"
     ]
    }
   ],
   "source": [
    "ss = parseLogfile(\"./maxtime.log\")\n",
    "ss = parseLogfile(\"./mintime.log\")\n",
    "ss = parseLogfile(\"./stdtime.log\")"
   ]
  },
  {
   "cell_type": "code",
   "execution_count": 51,
   "metadata": {
    "collapsed": true
   },
   "outputs": [],
   "source": [
    "# DATA Generation\n",
    "\n",
    "col_names = [col_name for col_name in ss.columns if \n",
    "        (col_name.endswith(\"th_obstacle\") and current.Envs) or\n",
    "        (col_name.endswith(\"th_region\") and current.Crowd) or\n",
    "        (col_name.endswith(\"th_ai\") and current.AI)]\n",
    "\n",
    "sn = ss.as_matrix(col_names)\n",
    "for i in [x for x in ss.columns if x.endswith(\"avg\")]:\n",
    "    st = ss.as_matrix((i,))\n",
    "    dump(\n",
    "        Path(\".\")/i,\n",
    "        {\n",
    "            \"X\": sn,\n",
    "            \"Y\": st,\n",
    "            \"info\": \"ORCA Map2 Env \" + i[:-4]\n",
    "        }\n",
    "    )"
   ]
  },
  {
   "cell_type": "code",
   "execution_count": 52,
   "metadata": {},
   "outputs": [
    {
     "data": {
      "text/plain": [
       "32014"
      ]
     },
     "execution_count": 52,
     "metadata": {},
     "output_type": "execute_result"
    }
   ],
   "source": [
    "len(sn)"
   ]
  },
  {
   "cell_type": "code",
   "execution_count": 14,
   "metadata": {},
   "outputs": [
    {
     "data": {
      "text/html": [
       "<div>\n",
       "<style>\n",
       "    .dataframe thead tr:only-child th {\n",
       "        text-align: right;\n",
       "    }\n",
       "\n",
       "    .dataframe thead th {\n",
       "        text-align: left;\n",
       "    }\n",
       "\n",
       "    .dataframe tbody tr th {\n",
       "        vertical-align: top;\n",
       "    }\n",
       "</style>\n",
       "<table border=\"1\" class=\"dataframe\">\n",
       "  <thead>\n",
       "    <tr style=\"text-align: right;\">\n",
       "      <th></th>\n",
       "      <th>1th_obstacle</th>\n",
       "      <th>2th_obstacle</th>\n",
       "      <th>3th_obstacle</th>\n",
       "      <th>4th_obstacle</th>\n",
       "      <th>5th_obstacle</th>\n",
       "      <th>6th_obstacle</th>\n",
       "      <th>7th_obstacle</th>\n",
       "      <th>8th_obstacle</th>\n",
       "      <th>9th_obstacle</th>\n",
       "      <th>10th_obstacle</th>\n",
       "      <th>11th_obstacle</th>\n",
       "      <th>12th_obstacle</th>\n",
       "      <th>13th_obstacle</th>\n",
       "      <th>14th_obstacle</th>\n",
       "      <th>15th_obstacle</th>\n",
       "      <th>16th_obstacle</th>\n",
       "      <th>17th_obstacle</th>\n",
       "      <th>18th_obstacle</th>\n",
       "      <th>19th_obstacle</th>\n",
       "      <th>20th_obstacle</th>\n",
       "      <th>21th_obstacle</th>\n",
       "      <th>22th_obstacle</th>\n",
       "      <th>23th_obstacle</th>\n",
       "      <th>24th_obstacle</th>\n",
       "      <th>25th_obstacle</th>\n",
       "      <th>26th_obstacle</th>\n",
       "      <th>27th_obstacle</th>\n",
       "      <th>28th_obstacle</th>\n",
       "      <th>29th_obstacle</th>\n",
       "      <th>30th_obstacle</th>\n",
       "      <th>31th_obstacle</th>\n",
       "      <th>hashing</th>\n",
       "      <th>time_avg</th>\n",
       "      <th>len_avg</th>\n",
       "      <th>ple_avg</th>\n",
       "      <th>cls_avg</th>\n",
       "    </tr>\n",
       "  </thead>\n",
       "  <tbody>\n",
       "    <tr>\n",
       "      <th>0</th>\n",
       "      <td>-15.01</td>\n",
       "      <td>-15.01</td>\n",
       "      <td>7.49</td>\n",
       "      <td>55.009998</td>\n",
       "      <td>15.01</td>\n",
       "      <td>24.629999</td>\n",
       "      <td>83.830002</td>\n",
       "      <td>48.43</td>\n",
       "      <td>28.01</td>\n",
       "      <td>-2.5</td>\n",
       "      <td>-56.869999</td>\n",
       "      <td>-22.49</td>\n",
       "      <td>2.51</td>\n",
       "      <td>58.540001</td>\n",
       "      <td>-17.49</td>\n",
       "      <td>51.049999</td>\n",
       "      <td>-57.5</td>\n",
       "      <td>27.02</td>\n",
       "      <td>22.32</td>\n",
       "      <td>-23.0</td>\n",
       "      <td>-10.99</td>\n",
       "      <td>35.68</td>\n",
       "      <td>55.490002</td>\n",
       "      <td>30.35</td>\n",
       "      <td>82.010002</td>\n",
       "      <td>-3.5</td>\n",
       "      <td>24.51</td>\n",
       "      <td>45.009998</td>\n",
       "      <td>-1.0</td>\n",
       "      <td>43.5</td>\n",
       "      <td>-13.13</td>\n",
       "      <td>1712384594237921280</td>\n",
       "      <td>71.612595</td>\n",
       "      <td>87.557107</td>\n",
       "      <td>300.133203</td>\n",
       "      <td>3.386454</td>\n",
       "    </tr>\n",
       "  </tbody>\n",
       "</table>\n",
       "</div>"
      ],
      "text/plain": [
       "   1th_obstacle  2th_obstacle  3th_obstacle  4th_obstacle  5th_obstacle  \\\n",
       "0        -15.01        -15.01          7.49     55.009998         15.01   \n",
       "\n",
       "   6th_obstacle  7th_obstacle  8th_obstacle  9th_obstacle  10th_obstacle  \\\n",
       "0     24.629999     83.830002         48.43         28.01           -2.5   \n",
       "\n",
       "   11th_obstacle  12th_obstacle  13th_obstacle  14th_obstacle  15th_obstacle  \\\n",
       "0     -56.869999         -22.49           2.51      58.540001         -17.49   \n",
       "\n",
       "   16th_obstacle  17th_obstacle  18th_obstacle  19th_obstacle  20th_obstacle  \\\n",
       "0      51.049999          -57.5          27.02          22.32          -23.0   \n",
       "\n",
       "   21th_obstacle  22th_obstacle  23th_obstacle  24th_obstacle  25th_obstacle  \\\n",
       "0         -10.99          35.68      55.490002          30.35      82.010002   \n",
       "\n",
       "   26th_obstacle  27th_obstacle  28th_obstacle  29th_obstacle  30th_obstacle  \\\n",
       "0           -3.5          24.51      45.009998           -1.0           43.5   \n",
       "\n",
       "   31th_obstacle              hashing   time_avg    len_avg     ple_avg  \\\n",
       "0         -13.13  1712384594237921280  71.612595  87.557107  300.133203   \n",
       "\n",
       "    cls_avg  \n",
       "0  3.386454  "
      ]
     },
     "execution_count": 14,
     "metadata": {},
     "output_type": "execute_result"
    }
   ],
   "source": [
    "ss"
   ]
  },
  {
   "cell_type": "code",
   "execution_count": 6,
   "metadata": {},
   "outputs": [
    {
     "name": "stdout",
     "output_type": "stream",
     "text": [
      "Dual trail\n",
      "time_avg    1.745863\n",
      "len_avg     0.928612\n",
      "ple_avg     4.632644\n",
      "cls_avg     2.273559\n",
      "dtype: float64\n",
      "4\n",
      "Varience test\n",
      "                 0\n",
      "time_avg  1.207661\n",
      "len_avg   0.707497\n",
      "ple_avg   3.322369\n",
      "cls_avg   1.547075\n",
      "Mean Value test\n",
      "                   0\n",
      "time_avg   93.569954\n",
      "len_avg   108.672024\n",
      "ple_avg   378.628056\n",
      "cls_avg    16.274104\n"
     ]
    }
   ],
   "source": [
    "ss = parseLogfile(\"./datamaxtime.log\")"
   ]
  },
  {
   "cell_type": "code",
   "execution_count": null,
   "metadata": {
    "collapsed": true
   },
   "outputs": [],
   "source": []
  }
 ],
 "metadata": {
  "kernelspec": {
   "display_name": "Python 3",
   "language": "python",
   "name": "python3"
  },
  "language_info": {
   "codemirror_mode": {
    "name": "ipython",
    "version": 3
   },
   "file_extension": ".py",
   "mimetype": "text/x-python",
   "name": "python",
   "nbconvert_exporter": "python",
   "pygments_lexer": "ipython3",
   "version": "3.6.3"
  }
 },
 "nbformat": 4,
 "nbformat_minor": 2
}
